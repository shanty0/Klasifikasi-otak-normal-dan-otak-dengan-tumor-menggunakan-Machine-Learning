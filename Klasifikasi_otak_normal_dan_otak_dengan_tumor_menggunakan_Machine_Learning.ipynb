{
  "nbformat": 4,
  "nbformat_minor": 0,
  "metadata": {
    "colab": {
      "name": "Klasifikasi otak normal dan otak dengan tumor  menggunakan Machine Learning.ipynb",
      "provenance": [],
      "collapsed_sections": []
    },
    "kernelspec": {
      "name": "python3",
      "display_name": "Python 3"
    },
    "language_info": {
      "name": "python"
    }
  },
  "cells": [
    {
      "cell_type": "code",
      "execution_count": 2,
      "metadata": {
        "id": "oYujhP4tQQ5R"
      },
      "outputs": [],
      "source": [
        "import numpy as np \n",
        "import pandas as pd\n",
        "import os\n",
        "import tensorflow as tf\n",
        "import cv2\n",
        "from tensorflow import keras\n",
        "from tensorflow.keras import layers, Input\n",
        "from keras.layers import InputLayer, MaxPooling2D, Flatten, Dense, Conv2D, Dropout\n",
        "from keras.losses import BinaryCrossentropy\n",
        "from tensorflow.keras.models import Sequential, Model\n",
        "from tensorflow.keras.preprocessing import image\n",
        "from tensorflow.keras.applications.resnet50 import preprocess_input, decode_predictions, ResNet50\n",
        "from tensorflow.keras.optimizers import Adam, SGD\n",
        "\n",
        "from sklearn.utils import shuffle\n",
        "from sklearn.model_selection import train_test_split\n",
        "from PIL.Image import open\n",
        "\n",
        "from  matplotlib import pyplot as plt\n",
        "import matplotlib.image as mpimg\n",
        "import random\n",
        "%matplotlib inline"
      ]
    },
    {
      "cell_type": "code",
      "source": [
        "from google.colab import drive\n",
        "drive.mount('/content/drive')"
      ],
      "metadata": {
        "colab": {
          "base_uri": "https://localhost:8080/"
        },
        "id": "TUeItjmVRnKZ",
        "outputId": "925eb611-2701-4971-ec4a-1bb4c3ad7f89"
      },
      "execution_count": 3,
      "outputs": [
        {
          "output_type": "stream",
          "name": "stdout",
          "text": [
            "Mounted at /content/drive\n"
          ]
        }
      ]
    },
    {
      "cell_type": "code",
      "source": [
        "!cp \"/content/drive/MyDrive/Brain Tumor\" \"/content/\"\n",
        "!cp \"/content/drive/MyDrive/Brain Tumor/Brain Tumor\" \"/content/\"\n",
        "!cp \"/content/drive/MyDrive/Brain Tumor/Brain Tumor.csv\" \"/content/\""
      ],
      "metadata": {
        "colab": {
          "base_uri": "https://localhost:8080/"
        },
        "id": "cn7u-H20S9qf",
        "outputId": "f57eaf44-119a-44f0-82e4-0f0de6056606"
      },
      "execution_count": 4,
      "outputs": [
        {
          "output_type": "stream",
          "name": "stdout",
          "text": [
            "cp: -r not specified; omitting directory '/content/drive/MyDrive/Brain Tumor'\n",
            "cp: -r not specified; omitting directory '/content/drive/MyDrive/Brain Tumor/Brain Tumor'\n"
          ]
        }
      ]
    },
    {
      "cell_type": "code",
      "source": [
        "IMAGE_DATASET = \"/content/drive/MyDrive/Brain Tumor/Brain Tumor\"\n",
        "IMAGE_DATASET_RAW = r\"\\content\\drive\\MyDrive\\Brain Tumor\\Brain Tumor\"\n",
        "WORKING_FOLDER = \"/content/drive/MyDrive/Brain Tumor\"\n",
        "IMG_HEIGHT = 224\n",
        "IMG_WIDTH = 224\n",
        "EPOCHS = 50"
      ],
      "metadata": {
        "id": "1yXOHcw-dTZs"
      },
      "execution_count": 5,
      "outputs": []
    },
    {
      "cell_type": "code",
      "source": [
        "cortex_df = pd.read_csv(\"/content/drive/MyDrive/Brain Tumor/Brain Tumor.csv\")\n",
        "cortex_df.head()"
      ],
      "metadata": {
        "colab": {
          "base_uri": "https://localhost:8080/",
          "height": 374
        },
        "id": "M1YupREvdVIA",
        "outputId": "4a4a16bf-6ce7-4e53-a907-db100d2060c2"
      },
      "execution_count": 6,
      "outputs": [
        {
          "output_type": "execute_result",
          "data": {
            "text/plain": [
              "    Image  Class      Mean     Variance  Standard Deviation   Entropy  \\\n",
              "0  Image1      0  6.535339   619.587845           24.891522  0.109059   \n",
              "1  Image2      0  8.749969   805.957634           28.389393  0.266538   \n",
              "2  Image3      1  7.341095  1143.808219           33.820234  0.001467   \n",
              "3  Image4      1  5.958145   959.711985           30.979219  0.001477   \n",
              "4  Image5      0  7.315231   729.540579           27.010009  0.146761   \n",
              "\n",
              "   Skewness   Kurtosis    Contrast    Energy       ASM  Homogeneity  \\\n",
              "0  4.276477  18.900575   98.613971  0.293314  0.086033     0.530941   \n",
              "1  3.718116  14.464618   63.858816  0.475051  0.225674     0.651352   \n",
              "2  5.061750  26.479563   81.867206  0.031917  0.001019     0.268275   \n",
              "3  5.677977  33.428845  151.229741  0.032024  0.001026     0.243851   \n",
              "4  4.283221  19.079108  174.988756  0.343849  0.118232     0.501140   \n",
              "\n",
              "   Dissimilarity  Correlation     Coarseness  \n",
              "0       4.473346     0.981939  7.458341e-155  \n",
              "1       3.220072     0.988834  7.458341e-155  \n",
              "2       5.981800     0.978014  7.458341e-155  \n",
              "3       7.700919     0.964189  7.458341e-155  \n",
              "4       6.834689     0.972789  7.458341e-155  "
            ],
            "text/html": [
              "\n",
              "  <div id=\"df-ff0678d7-6f46-4f03-ab73-d8fadb2ab68c\">\n",
              "    <div class=\"colab-df-container\">\n",
              "      <div>\n",
              "<style scoped>\n",
              "    .dataframe tbody tr th:only-of-type {\n",
              "        vertical-align: middle;\n",
              "    }\n",
              "\n",
              "    .dataframe tbody tr th {\n",
              "        vertical-align: top;\n",
              "    }\n",
              "\n",
              "    .dataframe thead th {\n",
              "        text-align: right;\n",
              "    }\n",
              "</style>\n",
              "<table border=\"1\" class=\"dataframe\">\n",
              "  <thead>\n",
              "    <tr style=\"text-align: right;\">\n",
              "      <th></th>\n",
              "      <th>Image</th>\n",
              "      <th>Class</th>\n",
              "      <th>Mean</th>\n",
              "      <th>Variance</th>\n",
              "      <th>Standard Deviation</th>\n",
              "      <th>Entropy</th>\n",
              "      <th>Skewness</th>\n",
              "      <th>Kurtosis</th>\n",
              "      <th>Contrast</th>\n",
              "      <th>Energy</th>\n",
              "      <th>ASM</th>\n",
              "      <th>Homogeneity</th>\n",
              "      <th>Dissimilarity</th>\n",
              "      <th>Correlation</th>\n",
              "      <th>Coarseness</th>\n",
              "    </tr>\n",
              "  </thead>\n",
              "  <tbody>\n",
              "    <tr>\n",
              "      <th>0</th>\n",
              "      <td>Image1</td>\n",
              "      <td>0</td>\n",
              "      <td>6.535339</td>\n",
              "      <td>619.587845</td>\n",
              "      <td>24.891522</td>\n",
              "      <td>0.109059</td>\n",
              "      <td>4.276477</td>\n",
              "      <td>18.900575</td>\n",
              "      <td>98.613971</td>\n",
              "      <td>0.293314</td>\n",
              "      <td>0.086033</td>\n",
              "      <td>0.530941</td>\n",
              "      <td>4.473346</td>\n",
              "      <td>0.981939</td>\n",
              "      <td>7.458341e-155</td>\n",
              "    </tr>\n",
              "    <tr>\n",
              "      <th>1</th>\n",
              "      <td>Image2</td>\n",
              "      <td>0</td>\n",
              "      <td>8.749969</td>\n",
              "      <td>805.957634</td>\n",
              "      <td>28.389393</td>\n",
              "      <td>0.266538</td>\n",
              "      <td>3.718116</td>\n",
              "      <td>14.464618</td>\n",
              "      <td>63.858816</td>\n",
              "      <td>0.475051</td>\n",
              "      <td>0.225674</td>\n",
              "      <td>0.651352</td>\n",
              "      <td>3.220072</td>\n",
              "      <td>0.988834</td>\n",
              "      <td>7.458341e-155</td>\n",
              "    </tr>\n",
              "    <tr>\n",
              "      <th>2</th>\n",
              "      <td>Image3</td>\n",
              "      <td>1</td>\n",
              "      <td>7.341095</td>\n",
              "      <td>1143.808219</td>\n",
              "      <td>33.820234</td>\n",
              "      <td>0.001467</td>\n",
              "      <td>5.061750</td>\n",
              "      <td>26.479563</td>\n",
              "      <td>81.867206</td>\n",
              "      <td>0.031917</td>\n",
              "      <td>0.001019</td>\n",
              "      <td>0.268275</td>\n",
              "      <td>5.981800</td>\n",
              "      <td>0.978014</td>\n",
              "      <td>7.458341e-155</td>\n",
              "    </tr>\n",
              "    <tr>\n",
              "      <th>3</th>\n",
              "      <td>Image4</td>\n",
              "      <td>1</td>\n",
              "      <td>5.958145</td>\n",
              "      <td>959.711985</td>\n",
              "      <td>30.979219</td>\n",
              "      <td>0.001477</td>\n",
              "      <td>5.677977</td>\n",
              "      <td>33.428845</td>\n",
              "      <td>151.229741</td>\n",
              "      <td>0.032024</td>\n",
              "      <td>0.001026</td>\n",
              "      <td>0.243851</td>\n",
              "      <td>7.700919</td>\n",
              "      <td>0.964189</td>\n",
              "      <td>7.458341e-155</td>\n",
              "    </tr>\n",
              "    <tr>\n",
              "      <th>4</th>\n",
              "      <td>Image5</td>\n",
              "      <td>0</td>\n",
              "      <td>7.315231</td>\n",
              "      <td>729.540579</td>\n",
              "      <td>27.010009</td>\n",
              "      <td>0.146761</td>\n",
              "      <td>4.283221</td>\n",
              "      <td>19.079108</td>\n",
              "      <td>174.988756</td>\n",
              "      <td>0.343849</td>\n",
              "      <td>0.118232</td>\n",
              "      <td>0.501140</td>\n",
              "      <td>6.834689</td>\n",
              "      <td>0.972789</td>\n",
              "      <td>7.458341e-155</td>\n",
              "    </tr>\n",
              "  </tbody>\n",
              "</table>\n",
              "</div>\n",
              "      <button class=\"colab-df-convert\" onclick=\"convertToInteractive('df-ff0678d7-6f46-4f03-ab73-d8fadb2ab68c')\"\n",
              "              title=\"Convert this dataframe to an interactive table.\"\n",
              "              style=\"display:none;\">\n",
              "        \n",
              "  <svg xmlns=\"http://www.w3.org/2000/svg\" height=\"24px\"viewBox=\"0 0 24 24\"\n",
              "       width=\"24px\">\n",
              "    <path d=\"M0 0h24v24H0V0z\" fill=\"none\"/>\n",
              "    <path d=\"M18.56 5.44l.94 2.06.94-2.06 2.06-.94-2.06-.94-.94-2.06-.94 2.06-2.06.94zm-11 1L8.5 8.5l.94-2.06 2.06-.94-2.06-.94L8.5 2.5l-.94 2.06-2.06.94zm10 10l.94 2.06.94-2.06 2.06-.94-2.06-.94-.94-2.06-.94 2.06-2.06.94z\"/><path d=\"M17.41 7.96l-1.37-1.37c-.4-.4-.92-.59-1.43-.59-.52 0-1.04.2-1.43.59L10.3 9.45l-7.72 7.72c-.78.78-.78 2.05 0 2.83L4 21.41c.39.39.9.59 1.41.59.51 0 1.02-.2 1.41-.59l7.78-7.78 2.81-2.81c.8-.78.8-2.07 0-2.86zM5.41 20L4 18.59l7.72-7.72 1.47 1.35L5.41 20z\"/>\n",
              "  </svg>\n",
              "      </button>\n",
              "      \n",
              "  <style>\n",
              "    .colab-df-container {\n",
              "      display:flex;\n",
              "      flex-wrap:wrap;\n",
              "      gap: 12px;\n",
              "    }\n",
              "\n",
              "    .colab-df-convert {\n",
              "      background-color: #E8F0FE;\n",
              "      border: none;\n",
              "      border-radius: 50%;\n",
              "      cursor: pointer;\n",
              "      display: none;\n",
              "      fill: #1967D2;\n",
              "      height: 32px;\n",
              "      padding: 0 0 0 0;\n",
              "      width: 32px;\n",
              "    }\n",
              "\n",
              "    .colab-df-convert:hover {\n",
              "      background-color: #E2EBFA;\n",
              "      box-shadow: 0px 1px 2px rgba(60, 64, 67, 0.3), 0px 1px 3px 1px rgba(60, 64, 67, 0.15);\n",
              "      fill: #174EA6;\n",
              "    }\n",
              "\n",
              "    [theme=dark] .colab-df-convert {\n",
              "      background-color: #3B4455;\n",
              "      fill: #D2E3FC;\n",
              "    }\n",
              "\n",
              "    [theme=dark] .colab-df-convert:hover {\n",
              "      background-color: #434B5C;\n",
              "      box-shadow: 0px 1px 3px 1px rgba(0, 0, 0, 0.15);\n",
              "      filter: drop-shadow(0px 1px 2px rgba(0, 0, 0, 0.3));\n",
              "      fill: #FFFFFF;\n",
              "    }\n",
              "  </style>\n",
              "\n",
              "      <script>\n",
              "        const buttonEl =\n",
              "          document.querySelector('#df-ff0678d7-6f46-4f03-ab73-d8fadb2ab68c button.colab-df-convert');\n",
              "        buttonEl.style.display =\n",
              "          google.colab.kernel.accessAllowed ? 'block' : 'none';\n",
              "\n",
              "        async function convertToInteractive(key) {\n",
              "          const element = document.querySelector('#df-ff0678d7-6f46-4f03-ab73-d8fadb2ab68c');\n",
              "          const dataTable =\n",
              "            await google.colab.kernel.invokeFunction('convertToInteractive',\n",
              "                                                     [key], {});\n",
              "          if (!dataTable) return;\n",
              "\n",
              "          const docLinkHtml = 'Like what you see? Visit the ' +\n",
              "            '<a target=\"_blank\" href=https://colab.research.google.com/notebooks/data_table.ipynb>data table notebook</a>'\n",
              "            + ' to learn more about interactive tables.';\n",
              "          element.innerHTML = '';\n",
              "          dataTable['output_type'] = 'display_data';\n",
              "          await google.colab.output.renderOutput(dataTable, element);\n",
              "          const docLink = document.createElement('div');\n",
              "          docLink.innerHTML = docLinkHtml;\n",
              "          element.appendChild(docLink);\n",
              "        }\n",
              "      </script>\n",
              "    </div>\n",
              "  </div>\n",
              "  "
            ]
          },
          "metadata": {},
          "execution_count": 6
        }
      ]
    },
    {
      "cell_type": "code",
      "source": [
        "plt.figure(figsize=(20,20))\n",
        "test_folder=\"/content/drive/MyDrive/Brain Tumor/Brain Tumor\" \n",
        "for i in range(5):\n",
        "    file = random.choice(os.listdir(test_folder))\n",
        "    image_path= os.path.join(test_folder, file)\n",
        "    img=mpimg.imread(image_path)\n",
        "    ax=plt.subplot(1,5,i+1)\n",
        "    ax.title.set_text(file)\n",
        "    plt.imshow(img)"
      ],
      "metadata": {
        "colab": {
          "base_uri": "https://localhost:8080/",
          "height": 256
        },
        "id": "ChKdj-XYdeZN",
        "outputId": "1f250c5b-89bf-4f58-ad65-ddf3d1b88e9d"
      },
      "execution_count": 7,
      "outputs": [
        {
          "output_type": "display_data",
          "data": {
            "text/plain": [
              "<Figure size 1440x1440 with 5 Axes>"
            ],
            "image/png": "[encoded data removed]"
          },
          "metadata": {
            "needs_background": "light"
          }
        }
      ]
    },
    {
      "cell_type": "code",
      "source": [
        "dataset_df = pd.DataFrame()\n",
        "dataset_df[\"Image\"] = cortex_df[\"Image\"]\n",
        "dataset_df[\"Class\"] = cortex_df[\"Class\"]\n",
        "path_list = []\n",
        "for img_path in os.listdir(IMAGE_DATASET):\n",
        "    path_list.append( os.path.join(IMAGE_DATASET,img_path))\n",
        "path_dict = {os.path.splitext(os.path.basename(x))[0]: x for x in path_list}\n",
        "dataset_df[\"paths\"] = cortex_df[\"Image\"].map(path_dict.get)\n",
        "dataset_df[\"pixels\"] = dataset_df[\"paths\"].map(lambda x:np.asarray(open(x).resize((IMG_HEIGHT,IMG_WIDTH))))\n",
        "dataset_df.head()"
      ],
      "metadata": {
        "colab": {
          "base_uri": "https://localhost:8080/",
          "height": 206
        },
        "id": "nLJka0Zfdfyz",
        "outputId": "a7f3bb29-3eb0-4f1a-8aca-601235713d49"
      },
      "execution_count": 8,
      "outputs": [
        {
          "output_type": "execute_result",
          "data": {
            "text/plain": [
              "    Image  Class                                              paths  \\\n",
              "0  Image1      0  /content/drive/MyDrive/Brain Tumor/Brain Tumor...   \n",
              "1  Image2      0  /content/drive/MyDrive/Brain Tumor/Brain Tumor...   \n",
              "2  Image3      1  /content/drive/MyDrive/Brain Tumor/Brain Tumor...   \n",
              "3  Image4      1  /content/drive/MyDrive/Brain Tumor/Brain Tumor...   \n",
              "4  Image5      0  /content/drive/MyDrive/Brain Tumor/Brain Tumor...   \n",
              "\n",
              "                                              pixels  \n",
              "0  [[[0, 0, 0], [0, 0, 0], [0, 0, 0], [0, 0, 0], ...  \n",
              "1  [[[0, 0, 0], [0, 0, 0], [0, 0, 0], [0, 0, 0], ...  \n",
              "2  [[[0, 0, 0], [0, 0, 0], [0, 0, 0], [0, 0, 0], ...  \n",
              "3  [[[0, 0, 0], [0, 0, 0], [0, 0, 0], [0, 0, 0], ...  \n",
              "4  [[[0, 0, 0], [0, 0, 0], [0, 0, 0], [0, 0, 0], ...  "
            ],
            "text/html": [
              "\n",
              "  <div id=\"df-6d4176ed-4b30-4184-b38d-3ad33d29331d\">\n",
              "    <div class=\"colab-df-container\">\n",
              "      <div>\n",
              "<style scoped>\n",
              "    .dataframe tbody tr th:only-of-type {\n",
              "        vertical-align: middle;\n",
              "    }\n",
              "\n",
              "    .dataframe tbody tr th {\n",
              "        vertical-align: top;\n",
              "    }\n",
              "\n",
              "    .dataframe thead th {\n",
              "        text-align: right;\n",
              "    }\n",
              "</style>\n",
              "<table border=\"1\" class=\"dataframe\">\n",
              "  <thead>\n",
              "    <tr style=\"text-align: right;\">\n",
              "      <th></th>\n",
              "      <th>Image</th>\n",
              "      <th>Class</th>\n",
              "      <th>paths</th>\n",
              "      <th>pixels</th>\n",
              "    </tr>\n",
              "  </thead>\n",
              "  <tbody>\n",
              "    <tr>\n",
              "      <th>0</th>\n",
              "      <td>Image1</td>\n",
              "      <td>0</td>\n",
              "      <td>/content/drive/MyDrive/Brain Tumor/Brain Tumor...</td>\n",
              "      <td>[[[0, 0, 0], [0, 0, 0], [0, 0, 0], [0, 0, 0], ...</td>\n",
              "    </tr>\n",
              "    <tr>\n",
              "      <th>1</th>\n",
              "      <td>Image2</td>\n",
              "      <td>0</td>\n",
              "      <td>/content/drive/MyDrive/Brain Tumor/Brain Tumor...</td>\n",
              "      <td>[[[0, 0, 0], [0, 0, 0], [0, 0, 0], [0, 0, 0], ...</td>\n",
              "    </tr>\n",
              "    <tr>\n",
              "      <th>2</th>\n",
              "      <td>Image3</td>\n",
              "      <td>1</td>\n",
              "      <td>/content/drive/MyDrive/Brain Tumor/Brain Tumor...</td>\n",
              "      <td>[[[0, 0, 0], [0, 0, 0], [0, 0, 0], [0, 0, 0], ...</td>\n",
              "    </tr>\n",
              "    <tr>\n",
              "      <th>3</th>\n",
              "      <td>Image4</td>\n",
              "      <td>1</td>\n",
              "      <td>/content/drive/MyDrive/Brain Tumor/Brain Tumor...</td>\n",
              "      <td>[[[0, 0, 0], [0, 0, 0], [0, 0, 0], [0, 0, 0], ...</td>\n",
              "    </tr>\n",
              "    <tr>\n",
              "      <th>4</th>\n",
              "      <td>Image5</td>\n",
              "      <td>0</td>\n",
              "      <td>/content/drive/MyDrive/Brain Tumor/Brain Tumor...</td>\n",
              "      <td>[[[0, 0, 0], [0, 0, 0], [0, 0, 0], [0, 0, 0], ...</td>\n",
              "    </tr>\n",
              "  </tbody>\n",
              "</table>\n",
              "</div>\n",
              "      <button class=\"colab-df-convert\" onclick=\"convertToInteractive('df-6d4176ed-4b30-4184-b38d-3ad33d29331d')\"\n",
              "              title=\"Convert this dataframe to an interactive table.\"\n",
              "              style=\"display:none;\">\n",
              "        \n",
              "  <svg xmlns=\"http://www.w3.org/2000/svg\" height=\"24px\"viewBox=\"0 0 24 24\"\n",
              "       width=\"24px\">\n",
              "    <path d=\"M0 0h24v24H0V0z\" fill=\"none\"/>\n",
              "    <path d=\"M18.56 5.44l.94 2.06.94-2.06 2.06-.94-2.06-.94-.94-2.06-.94 2.06-2.06.94zm-11 1L8.5 8.5l.94-2.06 2.06-.94-2.06-.94L8.5 2.5l-.94 2.06-2.06.94zm10 10l.94 2.06.94-2.06 2.06-.94-2.06-.94-.94-2.06-.94 2.06-2.06.94z\"/><path d=\"M17.41 7.96l-1.37-1.37c-.4-.4-.92-.59-1.43-.59-.52 0-1.04.2-1.43.59L10.3 9.45l-7.72 7.72c-.78.78-.78 2.05 0 2.83L4 21.41c.39.39.9.59 1.41.59.51 0 1.02-.2 1.41-.59l7.78-7.78 2.81-2.81c.8-.78.8-2.07 0-2.86zM5.41 20L4 18.59l7.72-7.72 1.47 1.35L5.41 20z\"/>\n",
              "  </svg>\n",
              "      </button>\n",
              "      \n",
              "  <style>\n",
              "    .colab-df-container {\n",
              "      display:flex;\n",
              "      flex-wrap:wrap;\n",
              "      gap: 12px;\n",
              "    }\n",
              "\n",
              "    .colab-df-convert {\n",
              "      background-color: #E8F0FE;\n",
              "      border: none;\n",
              "      border-radius: 50%;\n",
              "      cursor: pointer;\n",
              "      display: none;\n",
              "      fill: #1967D2;\n",
              "      height: 32px;\n",
              "      padding: 0 0 0 0;\n",
              "      width: 32px;\n",
              "    }\n",
              "\n",
              "    .colab-df-convert:hover {\n",
              "      background-color: #E2EBFA;\n",
              "      box-shadow: 0px 1px 2px rgba(60, 64, 67, 0.3), 0px 1px 3px 1px rgba(60, 64, 67, 0.15);\n",
              "      fill: #174EA6;\n",
              "    }\n",
              "\n",
              "    [theme=dark] .colab-df-convert {\n",
              "      background-color: #3B4455;\n",
              "      fill: #D2E3FC;\n",
              "    }\n",
              "\n",
              "    [theme=dark] .colab-df-convert:hover {\n",
              "      background-color: #434B5C;\n",
              "      box-shadow: 0px 1px 3px 1px rgba(0, 0, 0, 0.15);\n",
              "      filter: drop-shadow(0px 1px 2px rgba(0, 0, 0, 0.3));\n",
              "      fill: #FFFFFF;\n",
              "    }\n",
              "  </style>\n",
              "\n",
              "      <script>\n",
              "        const buttonEl =\n",
              "          document.querySelector('#df-6d4176ed-4b30-4184-b38d-3ad33d29331d button.colab-df-convert');\n",
              "        buttonEl.style.display =\n",
              "          google.colab.kernel.accessAllowed ? 'block' : 'none';\n",
              "\n",
              "        async function convertToInteractive(key) {\n",
              "          const element = document.querySelector('#df-6d4176ed-4b30-4184-b38d-3ad33d29331d');\n",
              "          const dataTable =\n",
              "            await google.colab.kernel.invokeFunction('convertToInteractive',\n",
              "                                                     [key], {});\n",
              "          if (!dataTable) return;\n",
              "\n",
              "          const docLinkHtml = 'Like what you see? Visit the ' +\n",
              "            '<a target=\"_blank\" href=https://colab.research.google.com/notebooks/data_table.ipynb>data table notebook</a>'\n",
              "            + ' to learn more about interactive tables.';\n",
              "          element.innerHTML = '';\n",
              "          dataTable['output_type'] = 'display_data';\n",
              "          await google.colab.output.renderOutput(dataTable, element);\n",
              "          const docLink = document.createElement('div');\n",
              "          docLink.innerHTML = docLinkHtml;\n",
              "          element.appendChild(docLink);\n",
              "        }\n",
              "      </script>\n",
              "    </div>\n",
              "  </div>\n",
              "  "
            ]
          },
          "metadata": {},
          "execution_count": 8
        }
      ]
    },
    {
      "cell_type": "code",
      "source": [
        "image_list = []\n",
        "for i in range(len(dataset_df)):\n",
        "    brain_image = dataset_df[\"pixels\"][i].astype(np.float32)\n",
        "    brain_image /= 255\n",
        "    image_list.append(brain_image)\n",
        "X = np.array(image_list)\n",
        "print(X.shape)"
      ],
      "metadata": {
        "colab": {
          "base_uri": "https://localhost:8080/"
        },
        "id": "LVnBPoaydf8I",
        "outputId": "f459a410-2810-47bf-fbca-a87657a9379f"
      },
      "execution_count": 9,
      "outputs": [
        {
          "output_type": "stream",
          "name": "stdout",
          "text": [
            "(3762, 224, 224, 3)\n"
          ]
        }
      ]
    },
    {
      "cell_type": "code",
      "source": [
        "y = np.array(dataset_df.Class)\n",
        "y.shape "
      ],
      "metadata": {
        "colab": {
          "base_uri": "https://localhost:8080/"
        },
        "id": "ONnaPpLHdf9i",
        "outputId": "7e63a684-9ce2-490c-f96a-dd6be2945572"
      },
      "execution_count": 10,
      "outputs": [
        {
          "output_type": "execute_result",
          "data": {
            "text/plain": [
              "(3762,)"
            ]
          },
          "metadata": {},
          "execution_count": 10
        }
      ]
    },
    {
      "cell_type": "code",
      "source": [
        "def split_data(X, y, test_size=0.2):\n",
        "       \n",
        "   # Splits data into training, development and test sets.\n",
        "  \n",
        "    \n",
        "    X_train, X_test_val, y_train, y_test_val = train_test_split(X, y, test_size=test_size)\n",
        "    X_test, X_val, y_test, y_val = train_test_split(X_test_val, y_test_val, test_size=0.5)\n",
        "    \n",
        "    return X_train, y_train, X_val, y_val, X_test, y_test"
      ],
      "metadata": {
        "id": "3DEq4M0JdgB9"
      },
      "execution_count": 11,
      "outputs": []
    },
    {
      "cell_type": "code",
      "source": [
        "X_train, y_train, X_val, y_val, X_test, y_test = split_data(X, y, test_size=0.3)"
      ],
      "metadata": {
        "id": "IEidzfb-0Gpd"
      },
      "execution_count": 12,
      "outputs": []
    },
    {
      "cell_type": "code",
      "source": [
        "print (\"number of training examples = \" + str(X_train.shape[0]))\n",
        "print (\"number of development examples = \" + str(X_val.shape[0]))\n",
        "print (\"number of test examples = \" + str(X_test.shape[0]))\n",
        "print (\"X_train shape: \" + str(X_train.shape))\n",
        "print (\"Y_train shape: \" + str(y_train.shape))\n",
        "print (\"X_val (dev) shape: \" + str(X_val.shape))\n",
        "print (\"Y_val (dev) shape: \" + str(y_val.shape))\n",
        "print (\"X_test shape: \" + str(X_test.shape))\n",
        "print (\"Y_test shape: \" + str(y_test.shape))"
      ],
      "metadata": {
        "colab": {
          "base_uri": "https://localhost:8080/"
        },
        "id": "zJfwuRHE0Lxg",
        "outputId": "adc293f0-ff24-4451-de3a-8ff08769f289"
      },
      "execution_count": 13,
      "outputs": [
        {
          "output_type": "stream",
          "name": "stdout",
          "text": [
            "number of training examples = 2633\n",
            "number of development examples = 565\n",
            "number of test examples = 564\n",
            "X_train shape: (2633, 224, 224, 3)\n",
            "Y_train shape: (2633,)\n",
            "X_val (dev) shape: (565, 224, 224, 3)\n",
            "Y_val (dev) shape: (565,)\n",
            "X_test shape: (564, 224, 224, 3)\n",
            "Y_test shape: (564,)\n"
          ]
        }
      ]
    },
    {
      "cell_type": "code",
      "source": [
        "def model(input_shape):\n",
        "\n",
        "    model = Sequential()\n",
        "    \n",
        "    model.add(Input(shape=input_shape))\n",
        "    \n",
        "    model.add(Conv2D(16, kernel_size=3, strides=(2, 2), padding=\"same\", activation=\"relu\", kernel_initializer=\"he_normal\"))\n",
        "    model.add(Conv2D(16, kernel_size=3, strides=(2, 2), padding=\"same\", activation=\"relu\", kernel_initializer=\"he_normal\"))\n",
        "    model.add(MaxPooling2D(pool_size=(2, 2), data_format=\"channels_last\", padding='same'))\n",
        "            \n",
        "    model.add(Conv2D(32, kernel_size=3, strides=(2, 2), padding=\"same\", activation=\"relu\", kernel_initializer=\"he_normal\"))\n",
        "    model.add(Conv2D(32, kernel_size=3, strides=(2, 2), padding=\"same\", activation=\"relu\", kernel_initializer=\"he_normal\"))\n",
        "    model.add(MaxPooling2D(pool_size=(2, 2), data_format=\"channels_last\", padding='same'))\n",
        "    \n",
        "    model.add(Conv2D(64, kernel_size=3, strides=(2, 2), padding=\"same\", activation=\"relu\", kernel_initializer=\"he_normal\"))\n",
        "    model.add(Conv2D(64, kernel_size=3, strides=(2, 2), padding=\"same\", activation=\"relu\", kernel_initializer=\"he_normal\"))\n",
        "    model.add(MaxPooling2D(pool_size=(2, 2), data_format=\"channels_last\", padding='same'))\n",
        "    model.add(Flatten())\n",
        "    model.add(Dense(256, activation=\"relu\"))\n",
        "    model.add(Dense(128, activation=\"relu\"))\n",
        "\n",
        "    model.add(Dense(1, activation=\"sigmoid\"))   \n",
        "    \n",
        "    return model"
      ],
      "metadata": {
        "id": "NOUotR_ZdgDt"
      },
      "execution_count": 14,
      "outputs": []
    },
    {
      "cell_type": "code",
      "source": [
        "model = model(input_shape = (IMG_HEIGHT, IMG_WIDTH, 3))"
      ],
      "metadata": {
        "id": "bbkUuHD6dgHp"
      },
      "execution_count": 15,
      "outputs": []
    },
    {
      "cell_type": "code",
      "source": [
        "model.summary()"
      ],
      "metadata": {
        "colab": {
          "base_uri": "https://localhost:8080/"
        },
        "id": "Dj8uN7AhdgKD",
        "outputId": "233080bf-66b9-405b-e7f1-ee63b849b6ef"
      },
      "execution_count": 16,
      "outputs": [
        {
          "output_type": "stream",
          "name": "stdout",
          "text": [
            "Model: \"sequential\"\n",
            "_________________________________________________________________\n",
            " Layer (type)                Output Shape              Param #   \n",
            "=================================================================\n",
            " conv2d (Conv2D)             (None, 112, 112, 16)      448       \n",
            "                                                                 \n",
            " conv2d_1 (Conv2D)           (None, 56, 56, 16)        2320      \n",
            "                                                                 \n",
            " max_pooling2d (MaxPooling2D  (None, 28, 28, 16)       0         \n",
            " )                                                               \n",
            "                                                                 \n",
            " conv2d_2 (Conv2D)           (None, 14, 14, 32)        4640      \n",
            "                                                                 \n",
            " conv2d_3 (Conv2D)           (None, 7, 7, 32)          9248      \n",
            "                                                                 \n",
            " max_pooling2d_1 (MaxPooling  (None, 4, 4, 32)         0         \n",
            " 2D)                                                             \n",
            "                                                                 \n",
            " conv2d_4 (Conv2D)           (None, 2, 2, 64)          18496     \n",
            "                                                                 \n",
            " conv2d_5 (Conv2D)           (None, 1, 1, 64)          36928     \n",
            "                                                                 \n",
            " max_pooling2d_2 (MaxPooling  (None, 1, 1, 64)         0         \n",
            " 2D)                                                             \n",
            "                                                                 \n",
            " flatten (Flatten)           (None, 64)                0         \n",
            "                                                                 \n",
            " dense (Dense)               (None, 256)               16640     \n",
            "                                                                 \n",
            " dense_1 (Dense)             (None, 128)               32896     \n",
            "                                                                 \n",
            " dense_2 (Dense)             (None, 1)                 129       \n",
            "                                                                 \n",
            "=================================================================\n",
            "Total params: 121,745\n",
            "Trainable params: 121,745\n",
            "Non-trainable params: 0\n",
            "_________________________________________________________________\n"
          ]
        }
      ]
    },
    {
      "cell_type": "code",
      "source": [
        "optimizer = SGD(learning_rate=0.01)\n",
        "loss_fn = BinaryCrossentropy(from_logits=True)\n",
        "model.compile(optimizer=optimizer, loss=loss_fn, metrics=['accuracy'])"
      ],
      "metadata": {
        "id": "7rJG_uVpdgNC"
      },
      "execution_count": 17,
      "outputs": []
    },
    {
      "cell_type": "code",
      "source": [
        "history = model.fit(x=X_train, y=y_train, batch_size=10, epochs=EPOCHS, validation_data=(X_val, y_val))"
      ],
      "metadata": {
        "colab": {
          "base_uri": "https://localhost:8080/"
        },
        "id": "4dE2cMSzdgQd",
        "outputId": "cad5fbf5-e2de-474c-d29a-c6c656b671f4"
      },
      "execution_count": 18,
      "outputs": [
        {
          "output_type": "stream",
          "name": "stdout",
          "text": [
            "Epoch 1/50\n"
          ]
        },
        {
          "output_type": "stream",
          "name": "stderr",
          "text": [
            "/usr/local/lib/python3.7/dist-packages/tensorflow/python/util/dispatch.py:1082: UserWarning: \"`binary_crossentropy` received `from_logits=True`, but the `output` argument was produced by a sigmoid or softmax activation and thus does not represent logits. Was this intended?\"\n",
            "  return dispatch_target(*args, **kwargs)\n"
          ]
        },
        {
          "output_type": "stream",
          "name": "stdout",
          "text": [
            "264/264 [==============================] - 25s 92ms/step - loss: 0.6042 - accuracy: 0.6783 - val_loss: 0.5735 - val_accuracy: 0.7274\n",
            "Epoch 2/50\n",
            "264/264 [==============================] - 24s 91ms/step - loss: 0.5010 - accuracy: 0.7668 - val_loss: 0.5288 - val_accuracy: 0.7469\n",
            "Epoch 3/50\n",
            "264/264 [==============================] - 24s 91ms/step - loss: 0.4764 - accuracy: 0.7828 - val_loss: 0.6441 - val_accuracy: 0.7133\n",
            "Epoch 4/50\n",
            "264/264 [==============================] - 24s 91ms/step - loss: 0.4440 - accuracy: 0.8082 - val_loss: 0.4331 - val_accuracy: 0.8000\n",
            "Epoch 5/50\n",
            "264/264 [==============================] - 24s 92ms/step - loss: 0.4059 - accuracy: 0.8226 - val_loss: 0.4851 - val_accuracy: 0.7841\n",
            "Epoch 6/50\n",
            "264/264 [==============================] - 25s 93ms/step - loss: 0.3837 - accuracy: 0.8359 - val_loss: 0.4411 - val_accuracy: 0.7805\n",
            "Epoch 7/50\n",
            "264/264 [==============================] - 24s 91ms/step - loss: 0.3434 - accuracy: 0.8519 - val_loss: 0.3288 - val_accuracy: 0.8708\n",
            "Epoch 8/50\n",
            "264/264 [==============================] - 24s 91ms/step - loss: 0.3167 - accuracy: 0.8640 - val_loss: 0.3592 - val_accuracy: 0.8566\n",
            "Epoch 9/50\n",
            "264/264 [==============================] - 24s 90ms/step - loss: 0.3006 - accuracy: 0.8648 - val_loss: 0.4303 - val_accuracy: 0.7929\n",
            "Epoch 10/50\n",
            "264/264 [==============================] - 24s 91ms/step - loss: 0.2881 - accuracy: 0.8731 - val_loss: 0.3151 - val_accuracy: 0.8619\n",
            "Epoch 11/50\n",
            "264/264 [==============================] - 24s 90ms/step - loss: 0.2637 - accuracy: 0.8880 - val_loss: 0.3038 - val_accuracy: 0.8726\n",
            "Epoch 12/50\n",
            "264/264 [==============================] - 24s 91ms/step - loss: 0.2482 - accuracy: 0.8948 - val_loss: 0.2734 - val_accuracy: 0.8690\n",
            "Epoch 13/50\n",
            "264/264 [==============================] - 25s 94ms/step - loss: 0.2435 - accuracy: 0.8910 - val_loss: 0.2986 - val_accuracy: 0.8761\n",
            "Epoch 14/50\n",
            "264/264 [==============================] - 24s 91ms/step - loss: 0.2330 - accuracy: 0.9024 - val_loss: 0.2456 - val_accuracy: 0.8885\n",
            "Epoch 15/50\n",
            "264/264 [==============================] - 23s 89ms/step - loss: 0.2031 - accuracy: 0.9191 - val_loss: 0.5547 - val_accuracy: 0.8018\n",
            "Epoch 16/50\n",
            "264/264 [==============================] - 23s 89ms/step - loss: 0.2059 - accuracy: 0.9157 - val_loss: 0.2308 - val_accuracy: 0.9009\n",
            "Epoch 17/50\n",
            "264/264 [==============================] - 23s 88ms/step - loss: 0.1893 - accuracy: 0.9263 - val_loss: 0.2816 - val_accuracy: 0.8690\n",
            "Epoch 18/50\n",
            "264/264 [==============================] - 24s 89ms/step - loss: 0.1767 - accuracy: 0.9313 - val_loss: 0.2688 - val_accuracy: 0.8796\n",
            "Epoch 19/50\n",
            "264/264 [==============================] - 24s 89ms/step - loss: 0.1662 - accuracy: 0.9343 - val_loss: 0.2065 - val_accuracy: 0.9221\n",
            "Epoch 20/50\n",
            "264/264 [==============================] - 24s 89ms/step - loss: 0.1526 - accuracy: 0.9408 - val_loss: 0.2207 - val_accuracy: 0.9080\n",
            "Epoch 21/50\n",
            "264/264 [==============================] - 24s 90ms/step - loss: 0.1436 - accuracy: 0.9434 - val_loss: 0.2085 - val_accuracy: 0.9204\n",
            "Epoch 22/50\n",
            "264/264 [==============================] - 25s 95ms/step - loss: 0.1887 - accuracy: 0.9233 - val_loss: 0.2318 - val_accuracy: 0.9027\n",
            "Epoch 23/50\n",
            "264/264 [==============================] - 24s 91ms/step - loss: 0.1265 - accuracy: 0.9537 - val_loss: 0.2011 - val_accuracy: 0.9239\n",
            "Epoch 24/50\n",
            "264/264 [==============================] - 24s 91ms/step - loss: 0.1147 - accuracy: 0.9582 - val_loss: 0.2213 - val_accuracy: 0.9115\n",
            "Epoch 25/50\n",
            "264/264 [==============================] - 24s 92ms/step - loss: 0.1077 - accuracy: 0.9628 - val_loss: 0.1711 - val_accuracy: 0.9398\n",
            "Epoch 26/50\n",
            "264/264 [==============================] - 24s 92ms/step - loss: 0.1010 - accuracy: 0.9613 - val_loss: 0.1872 - val_accuracy: 0.9327\n",
            "Epoch 27/50\n",
            "264/264 [==============================] - 24s 92ms/step - loss: 0.0947 - accuracy: 0.9681 - val_loss: 0.1804 - val_accuracy: 0.9310\n",
            "Epoch 28/50\n",
            "264/264 [==============================] - 24s 92ms/step - loss: 0.0852 - accuracy: 0.9666 - val_loss: 0.1550 - val_accuracy: 0.9487\n",
            "Epoch 29/50\n",
            "264/264 [==============================] - 24s 92ms/step - loss: 0.0817 - accuracy: 0.9700 - val_loss: 0.1577 - val_accuracy: 0.9398\n",
            "Epoch 30/50\n",
            "264/264 [==============================] - 24s 93ms/step - loss: 0.0665 - accuracy: 0.9776 - val_loss: 0.1908 - val_accuracy: 0.9398\n",
            "Epoch 31/50\n",
            "264/264 [==============================] - 24s 93ms/step - loss: 0.0623 - accuracy: 0.9787 - val_loss: 0.5237 - val_accuracy: 0.8265\n",
            "Epoch 32/50\n",
            "264/264 [==============================] - 25s 94ms/step - loss: 0.0511 - accuracy: 0.9833 - val_loss: 0.2030 - val_accuracy: 0.9345\n",
            "Epoch 33/50\n",
            "264/264 [==============================] - 25s 94ms/step - loss: 0.0583 - accuracy: 0.9776 - val_loss: 0.3013 - val_accuracy: 0.8956\n",
            "Epoch 34/50\n",
            "264/264 [==============================] - 25s 95ms/step - loss: 0.0494 - accuracy: 0.9859 - val_loss: 0.1823 - val_accuracy: 0.9398\n",
            "Epoch 35/50\n",
            "264/264 [==============================] - 24s 90ms/step - loss: 0.0446 - accuracy: 0.9859 - val_loss: 0.1608 - val_accuracy: 0.9363\n",
            "Epoch 36/50\n",
            "264/264 [==============================] - 25s 94ms/step - loss: 0.0356 - accuracy: 0.9882 - val_loss: 0.1881 - val_accuracy: 0.9504\n",
            "Epoch 37/50\n",
            "264/264 [==============================] - 25s 95ms/step - loss: 0.0354 - accuracy: 0.9890 - val_loss: 0.1781 - val_accuracy: 0.9469\n",
            "Epoch 38/50\n",
            "264/264 [==============================] - 25s 95ms/step - loss: 0.0226 - accuracy: 0.9920 - val_loss: 0.2182 - val_accuracy: 0.9345\n",
            "Epoch 39/50\n",
            "264/264 [==============================] - 24s 92ms/step - loss: 0.0298 - accuracy: 0.9890 - val_loss: 0.2295 - val_accuracy: 0.9451\n",
            "Epoch 40/50\n",
            "264/264 [==============================] - 24s 92ms/step - loss: 0.0218 - accuracy: 0.9932 - val_loss: 0.1912 - val_accuracy: 0.9416\n",
            "Epoch 41/50\n",
            "264/264 [==============================] - 24s 92ms/step - loss: 0.0116 - accuracy: 0.9966 - val_loss: 0.2681 - val_accuracy: 0.9363\n",
            "Epoch 42/50\n",
            "264/264 [==============================] - 24s 93ms/step - loss: 0.0362 - accuracy: 0.9886 - val_loss: 0.1499 - val_accuracy: 0.9522\n",
            "Epoch 43/50\n",
            "264/264 [==============================] - 25s 93ms/step - loss: 0.0092 - accuracy: 0.9981 - val_loss: 0.1932 - val_accuracy: 0.9469\n",
            "Epoch 44/50\n",
            "264/264 [==============================] - 25s 94ms/step - loss: 0.0137 - accuracy: 0.9962 - val_loss: 0.1948 - val_accuracy: 0.9611\n",
            "Epoch 45/50\n",
            "264/264 [==============================] - 25s 94ms/step - loss: 0.0092 - accuracy: 0.9970 - val_loss: 0.2256 - val_accuracy: 0.9434\n",
            "Epoch 46/50\n",
            "264/264 [==============================] - 24s 90ms/step - loss: 0.0031 - accuracy: 0.9996 - val_loss: 0.2223 - val_accuracy: 0.9469\n",
            "Epoch 47/50\n",
            "264/264 [==============================] - 24s 90ms/step - loss: 0.0013 - accuracy: 1.0000 - val_loss: 0.2266 - val_accuracy: 0.9469\n",
            "Epoch 48/50\n",
            "264/264 [==============================] - 24s 91ms/step - loss: 0.0010 - accuracy: 1.0000 - val_loss: 0.2375 - val_accuracy: 0.9522\n",
            "Epoch 49/50\n",
            "264/264 [==============================] - 24s 90ms/step - loss: 0.0012 - accuracy: 1.0000 - val_loss: 0.2276 - val_accuracy: 0.9558\n",
            "Epoch 50/50\n",
            "264/264 [==============================] - 24s 91ms/step - loss: 6.3907e-04 - accuracy: 1.0000 - val_loss: 0.2351 - val_accuracy: 0.9522\n"
          ]
        }
      ]
    },
    {
      "cell_type": "code",
      "source": [
        "model.save(\"/content/drive/MyDrive/Brain Tumor/model_braintumorv7.h5\")"
      ],
      "metadata": {
        "id": "HH1mZ6983BAo"
      },
      "execution_count": 19,
      "outputs": []
    },
    {
      "cell_type": "code",
      "source": [
        "history = model.history.history"
      ],
      "metadata": {
        "id": "IByR8Hqj3Txq"
      },
      "execution_count": 20,
      "outputs": []
    },
    {
      "cell_type": "code",
      "source": [
        "for key in history.keys():\n",
        "    print(key)"
      ],
      "metadata": {
        "colab": {
          "base_uri": "https://localhost:8080/"
        },
        "id": "74_9ZNbG3Xj6",
        "outputId": "fa8ca7c7-f74a-424f-8a32-48e9e2830261"
      },
      "execution_count": 21,
      "outputs": [
        {
          "output_type": "stream",
          "name": "stdout",
          "text": [
            "loss\n",
            "accuracy\n",
            "val_loss\n",
            "val_accuracy\n"
          ]
        }
      ]
    },
    {
      "cell_type": "code",
      "source": [
        "def plot_metrics(history):\n",
        "    \n",
        "    train_loss = history['loss']\n",
        "    val_loss = history['val_loss']\n",
        "    train_acc = history['accuracy']\n",
        "    val_acc = history['val_accuracy']\n",
        "    \n",
        "    # Loss\n",
        "    plt.figure()\n",
        "    plt.plot(train_loss, label='Training Loss')\n",
        "    plt.plot(val_loss, label='Validation Loss')\n",
        "    plt.title('Loss')\n",
        "    plt.legend()\n",
        "    plt.show()\n",
        "    \n",
        "    # Accuracy\n",
        "    plt.figure()\n",
        "    plt.plot(train_acc, label='Training Accuracy')\n",
        "    plt.plot(val_acc, label='Validation Accuracy')\n",
        "    plt.title('Accuracy')\n",
        "    plt.legend()\n",
        "    plt.show()"
      ],
      "metadata": {
        "id": "Aoz8hNvO3Z8a"
      },
      "execution_count": 22,
      "outputs": []
    },
    {
      "cell_type": "code",
      "source": [
        "plot_metrics(history)"
      ],
      "metadata": {
        "colab": {
          "base_uri": "https://localhost:8080/",
          "height": 545
        },
        "id": "W4ZVM78X3la1",
        "outputId": "87464a4f-4aa0-4a10-80e0-70fd211f2389"
      },
      "execution_count": 23,
      "outputs": [
        {
          "output_type": "display_data",
          "data": {
            "text/plain": [
              "<Figure size 432x288 with 1 Axes>"
            ],
            "image/png": "[encoded data removed]"
          },
          "metadata": {
            "needs_background": "light"
          }
        },
        {
          "output_type": "display_data",
          "data": {
            "text/plain": [
              "<Figure size 432x288 with 1 Axes>"
            ],
            "image/png": "[encoded data removed]"
          },
          "metadata": {
            "needs_background": "light"
          }
        }
      ]
    },
    {
      "cell_type": "code",
      "source": [
        "eval_score = model.evaluate(X_test, y_test)\n",
        "print(\"Test loss:\", eval_score[0])\n",
        "print(\"Test accuracy:\", eval_score[1])"
      ],
      "metadata": {
        "colab": {
          "base_uri": "https://localhost:8080/"
        },
        "id": "bQ3mf1POeo5g",
        "outputId": "497c3800-6b74-45bb-8e65-fa2a22f65527"
      },
      "execution_count": 24,
      "outputs": [
        {
          "output_type": "stream",
          "name": "stdout",
          "text": [
            "18/18 [==============================] - 1s 82ms/step - loss: 0.3463 - accuracy: 0.9504\n",
            "Test loss: 0.34627166390419006\n",
            "Test accuracy: 0.9503546357154846\n"
          ]
        }
      ]
    }
  ]
}